{
 "cells": [
  {
   "cell_type": "markdown",
   "metadata": {},
   "source": [
    "# Практика 2.7. Доверительные интервалы.\n",
    "$\\newcommand{\\estSe}{\\hat{\\se}}$\n",
    "$\\newcommand{\\ecdf}{\\hat{F}}$\n",
    "$\\newcommand{\\boldx}{\\boldsymbol{x}}$\n",
    "$\\newcommand{\\lp}{\\left(}$\n",
    "$\\newcommand{\\rp}{\\right)}$\n",
    "$\\newcommand{\\lf}{\\left\\{}$\n",
    "$\\newcommand{\\rf}{\\right\\}}$\n",
    "$\\newcommand{\\Normal}{\\mathcal{N}}$\n",
    "$\\newcommand{\\esttheta}{\\hat{\\theta}}$\n",
    "$\\newcommand{\\angmean}[1]{\\left\\langle #1 \\right\\rangle}$\n",
    "$\\newcommand{\\boldX}{\\boldsymbol{X}}$\n",
    "$\\newcommand{\\se}{\\mathrm{se}}$\n",
    "$\\newcommand{\\Var}{\\mathbb{V}}$\n",
    "$\\newcommand{\\Exp}{\\mathbb{E}}$"
   ]
  },
  {
   "cell_type": "code",
   "execution_count": 29,
   "metadata": {},
   "outputs": [],
   "source": [
    "import numpy as np\n",
    "import matplotlib.pyplot as plt\n",
    "%matplotlib inline\n",
    "from scipy.stats import norm"
   ]
  },
  {
   "cell_type": "markdown",
   "metadata": {},
   "source": [
    "1. Пусть $X_1, ..., X_n$ - выборка из распределения Бернулли с параметром $p$. $\\hat p = \\overline{X}$ - оценка параметра $p$. Постройте 95% доверительные интервалы для оценки p:\n",
    "    * используя неравенство Чебышёва.\n",
    "    * асимптотически нормальный доверительный интервал."
   ]
  },
  {
   "cell_type": "markdown",
   "metadata": {},
   "source": [
    "Решение: $\\Exp \\hat p = p$ (честно посчитаем мат. ожидание). Неравенство Чебышёва:\n",
    "$$\n",
    "P(\\left|\\hat p - \\Exp \\hat p\\right| \\ge \\varepsilon) = P(\\left|\\hat p - p\\right| \\ge \\varepsilon) \\le \\frac{\\Var \\hat p}{\\varepsilon^2} = \\alpha\n",
    "$$\n",
    "$\\alpha = 0.05$ - вероятность того, что истинное значение не попадёт в д.и. Таким образом:\n",
    "$$\n",
    "\\frac{\\sqrt{\\Var \\hat p}}{\\sqrt{\\alpha}} = \\frac{\\se \\left(\\hat p\\right)}{\\sqrt{\\alpha}} = \\varepsilon\n",
    "$$\n",
    "Посчитаем дисперсию $\\hat p$: $\\Var \\hat p = \\frac{p(1 - p)}{n}$. Поскольку значение $p$ - неизвестно, лучшее, что можно сделать - подставить вместо $p$ его оценку:\n",
    "$$\n",
    "\\hat{\\Var} \\hat p = \\frac{\\hat p(1 - \\hat p)}{n}\n",
    "$$\n",
    "И получить, что $$\\hat \\varepsilon = \\frac{\\sqrt{\\frac{\\hat p(1 - \\hat p)}{n}}}{\\sqrt{\\alpha}}$$\n",
    "Подставив это в неравенство Чебышёва, получим:\n",
    "$$\n",
    "P(\\left|\\hat p - p\\right| \\ge \\frac{\\sqrt{\\frac{\\hat p(1 - \\hat p)}{n}}}{\\sqrt{\\alpha}}) \\le \\alpha$$$$\n",
    "P(\\left|\\hat p - p\\right| < \\frac{\\sqrt{\\frac{\\hat p(1 - \\hat p)}{n}}}{\\sqrt{\\alpha}}) \\ge 1 - \\alpha\n",
    "$$\n",
    "Тогда доверительный интервал выглядит так:\n",
    "$$ \\left|\\hat p - p\\right| < \\frac{\\sqrt{\\frac{\\hat p(1 - \\hat p)}{n}}}{\\sqrt{\\alpha}}$$\n",
    "$$ - \\frac{\\sqrt{\\frac{\\hat p(1 - \\hat p)}{n}}}{\\sqrt{\\alpha}} < \\hat p - p < \\frac{\\sqrt{\\frac{\\hat p(1 - \\hat p)}{n}}}{\\sqrt{\\alpha}}$$\n",
    "$$ \\hat p - \\frac{\\sqrt{\\frac{\\hat p(1 - \\hat p)}{n}}}{\\sqrt{\\alpha}} < p < \\hat p + \\frac{\\sqrt{\\frac{\\hat p(1 - \\hat p)}{n}}}{\\sqrt{\\alpha}}$$\n",
    "Обратите внимание, д.и. строится именно для $p$, а не для $\\hat p$ - мы пытаемся узнать, где находится настоящее значение, а не в какую точку попадёт её оценка по выборке."
   ]
  },
  {
   "cell_type": "markdown",
   "metadata": {},
   "source": [
    "Теперь построим асимптотически нормальный доверительный интервал. Рассмотрим следующее выражение:\n",
    "$$ \\frac{\\hat p - p}{\\se \\left(\\hat p\\right)}$$\n",
    "Можно показать, что при $n \\to +\\infty$ эта величина сходится к стандартному нормальному распределению:\n",
    "$$ \\frac{\\hat p - p}{\\se \\left(\\hat p\\right)} \\sim N(0, 1)$$\n",
    "Для удобства введём $\\xi \\sim N(0, 1)$. Тогда $\\forall x$:\n",
    "$$P\\left(\\frac{\\hat p - p}{\\se \\left(\\hat p\\right)} \\le x\\right) \\approx \n",
    "P\\left(\\xi \\le x\\right) = \\Phi(x)\n",
    "$$\n",
    "$$ \\Phi(x) = \\int\\limits_{-\\infty}^{x}\\frac{1}{\\sqrt{2\\pi}}e^{-\\frac{x^2}{2}}dx$$\n",
    "А теперь построим доверительный интервал:\n",
    "$$ P\\left(\\left|\\frac{\\hat p - p}{\\se \\left(\\hat p\\right)}\\right| \\le x\\right) \\approx \n",
    "P\\left(\\left|\\xi\\right| \\le x\\right) = \\Phi(x) - \\Phi(-x) = 1 - \\alpha$$\n",
    "Т.е. значение лежит в промежутке от $-x$ до $x$ с вероятностью $1 - \\alpha$.\n",
    "Этот $x$ находится так:\n",
    "$$ x = \\Phi^{-1} \\left(\\frac{1 - \\alpha}{2}\\right)$$\n",
    "Теперь можно записать доверительный интервал:\n",
    "$$\\left|\\frac{\\hat p - p}{\\se \\left(\\hat p\\right)}\\right| \\le \\Phi^{-1} \\left(\\frac{1 - \\alpha}{2}\\right)$$\n",
    "Проделав преобразования, подобно предыдущему пункту задачи, получим:\n",
    "$$\\hat p - \\se \\left(\\hat p\\right) \\cdot \\Phi^{-1} \\left(\\frac{1 - \\alpha}{2}\\right) \\le p \\le\n",
    "\\hat p + \\se \\left(\\hat p\\right) \\cdot \\Phi^{-1} \\left(\\frac{1 - \\alpha}{2}\\right) \n",
    "$$\n",
    "Поскольку $\\se \\left(\\hat p\\right)$ зависит от неизвестного $p$, вместо $\\se$ подставим $\\estSe$:\n",
    "$$\\hat p - \\sqrt{\\frac{\\hat p(1 - \\hat p)}{n}} \\cdot \\Phi^{-1} \\left(\\frac{1 - \\alpha}{2}\\right) \\le p \\le\n",
    "\\hat p + \\sqrt{\\frac{\\hat p(1 - \\hat p)}{n}} \\cdot \\Phi^{-1} \\left(\\frac{1 - \\alpha}{2}\\right) \n",
    "$$\n",
    "Это и есть асимптотически нормальный доверительный интервал."
   ]
  },
  {
   "cell_type": "markdown",
   "metadata": {},
   "source": [
    "2. Дана выборка из экспоненциального распределения с параметром $\\lambda$ (Функция распределения: $F(x) = 1 - e^{-\\lambda x}$ при $x > 0$, иначе $0$). Постройте $(1-\\alpha)$ доверительный интервал для лямбда с помощью оценки $\\hat \\lambda = \\frac{1}{\\overline{X}}$. Используйте 3 подхода на основе бутстрепа. В ответе запишите границы. Попадает ли истинное значение в доверительные интервалы? Исходные данные:"
   ]
  },
  {
   "cell_type": "code",
   "execution_count": 41,
   "metadata": {},
   "outputs": [
    {
     "name": "stdout",
     "output_type": "stream",
     "text": [
      "𝛼 = 0.05\n",
      "Выборка: [ 8. 13.  9.  8.  6. 10.  6. 22. 33.  5.]\n",
      "Бутстрепные выборки:\n",
      "[[ 6. 22. 22. 33. 13. 10.  5. 33.  5.  6.]\n",
      " [ 8.  8.  8. 10.  8.  9.  8. 33. 13.  8.]\n",
      " [ 8.  8. 22.  8. 13.  5.  5.  8.  6. 22.]\n",
      " [ 8.  9. 22.  9.  8.  8.  6. 10. 10.  6.]\n",
      " [33.  6. 13.  6.  5. 33. 13. 13. 22.  5.]]\n"
     ]
    }
   ],
   "source": [
    "alpha = 0.05\n",
    "print(f'𝛼 = {alpha}')\n",
    "lambda_param = 0.1\n",
    "n = 10\n",
    "B = 5\n",
    "seed = 0\n",
    "rnd = np.random.RandomState(seed)\n",
    "sample = np.around(rnd.exponential(1 / lambda_param, n))\n",
    "bootstrap_sample = rnd.choice(sample, (B, n), replace=True)\n",
    "print(f'Выборка: {sample}')\n",
    "print(f'Бутстрепные выборки:\\n{bootstrap_sample}')"
   ]
  },
  {
   "cell_type": "markdown",
   "metadata": {},
   "source": [
    "Решение: Бутстреп - приём, позволяющий оценить что-нибудь по выборке, не прибегая к сложным рассчётам. В данном случае бутстреп позволит не считать интегралы, чтобы оценить математическое ожидание и дисперсию $\\hat \\lambda$. \n",
    "\n",
    "Суть метода в следующем: настоящая функция распределения аппроксимируется эмпирической. Много раз производится выборка из эмпирической функции распределения, по каждой такой выборке (их называют бутстрепными) можно оценить то, что просят. Получится массив значений, с помощью которого можно оценить разброс значений и построить д.и.\n",
    "\n",
    "Ещё раз то же самое в виде алгоритма:\n",
    "- Посчитать значение функционала $\\hat T$ от исходной выборки.\n",
    "- Сгенерировать по выборке бутстрепные выборки.\n",
    "- По каждой бутстрепной выборке посчитать $T_i$.\n",
    "- Построить доверительный интервал, пользуясь одной из формул."
   ]
  },
  {
   "cell_type": "markdown",
   "metadata": {},
   "source": [
    "Подход первый - асимптотически нормальный д.и. Предположим, что оценка $\\hat \\lambda$ - асимптотически нормальная. Как и в первом задании, требуется оценить стандартное отклонение $\\hat \\lambda$. Вместо того, чтобы считать интегралы, сгенерируем бутстрепные выборки и получим значения: $\\hat \\lambda_1, \\hat \\lambda_2, ...$. Теперь стандартное отклонение $\\hat \\lambda$ оценим по формуле:\n",
    "$$ \\estSe \\left(\\hat \\lambda\\right) = \\frac{1}{n} \\sum\\limits_{i=1}^{n} T_i$$\n",
    "Для данного нам $\\alpha$: $\\Phi^{-1} \\left(\\frac{1 - \\alpha}{2}\\right) \\approx 2$. Поэтому асимптотически нормальный доверительный интервал выглядит так:\n",
    "$$\\frac{1}{\\overline{X}} - 2 \\estSe \\left(\\hat \\lambda\\right) \\le \\lambda \\le \\frac{1}{\\overline{X}} + 2 \\estSe \\left(\\hat \\lambda\\right) $$"
   ]
  },
  {
   "cell_type": "markdown",
   "metadata": {},
   "source": [
    "Второй подход - центральный доверительный интервал. По каждой бутстрепной выборке посчитаем оценки, получим из них массив. Из него выберем верхнюю и нижнюю $\\frac{\\alpha}{2}$ квантили, и запишем ответ по формуле:\n",
    "$$2 \\hat T - \\hat F_{T*}^{-1}\\left(1 - \\frac{\\alpha}{2}\\right) \\le \\lambda \\le 2 \\hat T + \\hat F_{T*}^{-1}\\left(\\frac{\\alpha}{2}\\right) $$\n",
    "\n",
    "Здесь $\\hat F_{T*}^{-1}\\left(1 - \\frac{\\alpha}{2}\\right)$ и $\\hat F_{T*}^{-1}\\left(\\frac{\\alpha}{2}\\right)$ - квантили бутстрепных оценок."
   ]
  },
  {
   "cell_type": "markdown",
   "metadata": {},
   "source": [
    "Третий подход: квантильный доверительный интервал. Отличается от предыдущего формулой,\n",
    "и тем, что оценку по исходной выборке считать не надо. Вот формула, где для квантилей\n",
    "обозначения те же:\n",
    "$$\n",
    "\\hat F_{T*}^{-1}\\left(\\frac{\\alpha}{2} \\right) \\le \\lambda \\le \n",
    "                   \\hat F_{T*}^{-1}\\left(1 - \\frac{\\alpha}{2}\\right)$$"
   ]
  },
  {
   "cell_type": "markdown",
   "metadata": {},
   "source": [
    "Обратите внимание, что квантили поменялись местами."
   ]
  },
  {
   "cell_type": "markdown",
   "metadata": {},
   "source": [
    "Зачем 3 подхода? Если все 3 дали примерно одинаковый результат, значит всё хорошо. Если нет, то или данных мало, или ошибка где-то, или не повезло (seed плохой). Кроме того, может оказаться так, что оценка вовсе не асимптотически нормальная, тогда первый подход выдаст неизвестно что."
   ]
  },
  {
   "cell_type": "markdown",
   "metadata": {},
   "source": [
    "Решение в виде кода:"
   ]
  },
  {
   "cell_type": "code",
   "execution_count": null,
   "metadata": {},
   "outputs": [],
   "source": [
    "bootstrap_est_sample = np.power(np.mean(bootstrap_sample, axis=1), -1)  # бутстрепные оценки lambda\n",
    "\n",
    "est_func = 1 / np.mean(sample)\n",
    "estse_boot = bootstrap_est_sample.std()  # стандартное отклонение оценки\n",
    "# асимптотически нормальный доверительный интервал\n",
    "z_alpha = norm.ppf(\n",
    "    1 - alpha / 2, loc=0.0, scale=1.0)  # 𝛼-квантиль нормального распределения\n",
    "left_bound = est_func - z_alpha * estse_boot\n",
    "right_bound = est_func + z_alpha * estse_boot\n",
    "print(f'асимптотически нормальный интервал '\n",
    "      f'для α = {alpha}: ({left_bound}; {right_bound})')\n",
    "\n",
    "higher_quantile, lower_quantile = np.percentile(\n",
    "        bootstrap_est_sample, np.array([alpha / 2, 1 - alpha / 2]) * 100)  # квантили оценки\n",
    "\n",
    "left_bound = 2 * est_func - lower_quantile\n",
    "right_bound = 2 * est_func - higher_quantile\n",
    "print(f'центральный доверительный интервал для α = {alpha}: ({left_bound}; {right_bound})')\n",
    "\n",
    "left_bound = higher_quantile\n",
    "right_bound = lower_quantile\n",
    "print(f'квантильный доверительный интервал для α = {alpha}: ({left_bound}; {right_bound})')"
   ]
  }
 ],
 "metadata": {
  "kernelspec": {
   "display_name": "Python 3",
   "language": "python",
   "name": "python3"
  },
  "language_info": {
   "codemirror_mode": {
    "name": "ipython",
    "version": 3
   },
   "file_extension": ".py",
   "mimetype": "text/x-python",
   "name": "python",
   "nbconvert_exporter": "python",
   "pygments_lexer": "ipython3",
   "version": "3.7.1"
  }
 },
 "nbformat": 4,
 "nbformat_minor": 2
}
